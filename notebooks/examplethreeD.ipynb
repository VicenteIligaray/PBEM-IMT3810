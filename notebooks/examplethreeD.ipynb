{
 "cells": [
  {
   "cell_type": "markdown",
   "metadata": {},
   "source": [
    "## Example of 3D periodic problem"
   ]
  },
  {
   "cell_type": "markdown",
   "metadata": {},
   "source": [
    "Create the grid for the unit sphere."
   ]
  },
  {
   "cell_type": "code",
   "execution_count": null,
   "metadata": {},
   "outputs": [],
   "source": [
    "from os import chdir\n",
    "import numpy as np\n",
    "\n",
    "chdir(\"../\")\n",
    "d = 4\n",
    "k = 2 / d\n",
    "v = np.array([1, 0, 0], dtype=np.complex64)\n",
    "beta = d * k * v\n",
    "M = 50\n",
    "\n",
    "from pypbem.utils.threeD.sphere_grid import get_sphere_grid\n",
    "\n",
    "grid = get_sphere_grid(0.4)\n",
    "print(f\"Cantidad de nodos: {np.shape(grid)[0]}\")"
   ]
  },
  {
   "cell_type": "markdown",
   "metadata": {},
   "source": [
    "We can plot the grid."
   ]
  },
  {
   "cell_type": "code",
   "execution_count": null,
   "metadata": {},
   "outputs": [],
   "source": [
    "import matplotlib.pyplot as plt\n",
    "\n",
    "ax = plt.figure().add_subplot(projection=\"3d\")\n",
    "ax.scatter(grid[:, 0], grid[:, 1], grid[:, 2])\n",
    "ax.set_aspect(\"equal\")\n",
    "plt.show()"
   ]
  },
  {
   "cell_type": "markdown",
   "metadata": {},
   "source": [
    "Assemble the left and right hand side, by evaluating the single layer boundary operator."
   ]
  },
  {
   "cell_type": "code",
   "execution_count": null,
   "metadata": {},
   "outputs": [],
   "source": [
    "from pypbem.utils.threeD.BSLO import assemble_BSLO\n",
    "from pypbem.utils.threeD.RHS import assemble_RHS\n",
    "\n",
    "\n",
    "BSLO = assemble_BSLO(grid)\n",
    "RHS = assemble_RHS(grid)"
   ]
  },
  {
   "cell_type": "markdown",
   "metadata": {},
   "source": [
    "We solve the system with GMRES."
   ]
  },
  {
   "cell_type": "code",
   "execution_count": null,
   "metadata": {},
   "outputs": [],
   "source": [
    "from scipy.sparse.linalg import gmres\n",
    "\n",
    "alpha, info = gmres(BSLO, RHS)"
   ]
  },
  {
   "cell_type": "markdown",
   "metadata": {},
   "source": [
    "Evaluate the single layer potential operator and get the total field in [−10, 10] × 0 × [−d/2, d/2]."
   ]
  },
  {
   "cell_type": "code",
   "execution_count": null,
   "metadata": {},
   "outputs": [],
   "source": [
    "# CORTE XZ\n",
    "Nx = 30\n",
    "Nz = 30\n",
    "xlim = d\n",
    "xmin, xmax, zmin, zmax = [-xlim, xlim, -d / 2, d / 2]\n",
    "plot_grid = np.mgrid[xmin : xmax : Nx * 1j, zmin : zmax : Nz * 1j]\n",
    "points = np.vstack((plot_grid[0].ravel(), np.zeros(plot_grid[0].size), plot_grid[1].ravel()))\n",
    "u_evaluated = np.zeros(points.shape[1], dtype=np.complex128)\n",
    "u_evaluated[:] = np.nan\n",
    "\n",
    "x, y, z = points\n",
    "idx_ext = np.sqrt(x**2 + z**2) > 1\n",
    "idx_int = np.sqrt(x**2 + z**2) <= 1\n",
    "\n",
    "points_exterior = points[:, idx_ext]\n",
    "points_interior = points[:, idx_int]\n",
    "\n",
    "from pypbem.utils.threeD.potential import potential_eval\n",
    "\n",
    "field_ext = np.zeros((points_exterior.shape[1],), dtype=np.complex64)\n",
    "for i in range(points_exterior.shape[1]):\n",
    "    point = points_exterior[:, i]\n",
    "    field_ext[i,] = potential_eval(point, grid, alpha)\n",
    "\n",
    "u_evaluated[idx_ext] = (-field_ext + np.exp(1j * k * points_exterior[0,])).flat\n",
    "u_evaluated = u_evaluated.reshape([Nx, Nz])\n",
    "\n",
    "%matplotlib inline\n",
    "from matplotlib import pylab as plt\n",
    "import matplotlib as mpl\n",
    "\n",
    "mpl.rcParams.update(mpl.rcParamsDefault)\n",
    "plt.rcParams.update({\"text.usetex\": True, \"font.family\": \"serif\"})\n",
    "fig = plt.figure(figsize=(10, 4))\n",
    "\n",
    "ax = fig.add_subplot(111)\n",
    "pos = ax.imshow(np.real(u_evaluated.T), extent=[-xlim, xlim, -d / 2, d / 2], cmap=\"seismic\")\n",
    "ax.set_xlabel(r\"$x$\")\n",
    "ax.set_ylabel(r\"$z$\")\n",
    "ax.set_title(\"PBEM\")\n",
    "plt.colorbar(pos, ax=ax)\n",
    "plt.show()"
   ]
  },
  {
   "cell_type": "markdown",
   "metadata": {},
   "source": [
    "Evaluate the single layer potential operator and get the total field in 0 × [−d/2, d/2] ×  [−d/2, d/2]."
   ]
  },
  {
   "cell_type": "code",
   "execution_count": null,
   "metadata": {},
   "outputs": [],
   "source": [
    "# CORTE YZ\n",
    "Ny = 30\n",
    "Nz = 30\n",
    "ymin, ymax, zmin, zmax = [-d / 2, d / 2, -d / 2, d / 2]\n",
    "plot_grid = np.mgrid[ymin : ymax : Ny * 1j, zmin : zmax : Nz * 1j]\n",
    "points = np.vstack((np.zeros(plot_grid[0].size), plot_grid[0].ravel(), plot_grid[1].ravel()))\n",
    "u_evaluated = np.zeros(points.shape[1], dtype=np.complex128)\n",
    "u_evaluated[:] = np.nan\n",
    "\n",
    "x, y, z = points\n",
    "idx_ext = np.sqrt(y**2 + z**2) > 1\n",
    "idx_int = np.sqrt(y**2 + z**2) <= 1\n",
    "\n",
    "points_exterior = points[:, idx_ext]\n",
    "points_interior = points[:, idx_int]\n",
    "\n",
    "from pypbem.utils.threeD.potential import potential_eval\n",
    "\n",
    "field_ext = np.zeros((points_exterior.shape[1],), dtype=np.complex64)\n",
    "for i in range(points_exterior.shape[1]):\n",
    "    point = points_exterior[:, i]\n",
    "    field_ext[i,] = potential_eval(point, grid, alpha)\n",
    "\n",
    "u_evaluated[idx_ext] = (-field_ext + np.exp(1j * k * points_exterior[0,])).flat\n",
    "u_evaluated = u_evaluated.reshape([Ny, Nz])\n",
    "\n",
    "%matplotlib inline\n",
    "from matplotlib import pylab as plt\n",
    "import matplotlib as mpl\n",
    "\n",
    "mpl.rcParams.update(mpl.rcParamsDefault)\n",
    "plt.rcParams.update({\"text.usetex\": True, \"font.family\": \"serif\"})\n",
    "fig = plt.figure(figsize=(6, 6))\n",
    "\n",
    "ax = fig.add_subplot(111)\n",
    "pos = ax.imshow(np.real(u_evaluated.T), extent=[-d / 2, d / 2, -d / 2, d / 2], cmap=\"seismic\")\n",
    "ax.set_xlabel(r\"$x$\")\n",
    "ax.set_ylabel(r\"$y$\")\n",
    "ax.set_title(\"PBEM\")\n",
    "plt.colorbar(pos, ax=ax)\n",
    "plt.show()"
   ]
  }
 ],
 "metadata": {
  "kernelspec": {
   "display_name": "Python 3",
   "language": "python",
   "name": "python3"
  },
  "language_info": {
   "codemirror_mode": {
    "name": "ipython",
    "version": 3
   },
   "file_extension": ".py",
   "mimetype": "text/x-python",
   "name": "python",
   "nbconvert_exporter": "python",
   "pygments_lexer": "ipython3",
   "version": "3.10.11"
  }
 },
 "nbformat": 4,
 "nbformat_minor": 2
}
